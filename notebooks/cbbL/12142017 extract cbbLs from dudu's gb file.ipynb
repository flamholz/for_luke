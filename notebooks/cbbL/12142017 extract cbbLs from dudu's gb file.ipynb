{
 "cells": [
  {
   "cell_type": "code",
   "execution_count": 29,
   "metadata": {
    "collapsed": true
   },
   "outputs": [],
   "source": [
    "from Bio import SeqIO, SeqRecord\n",
    "from Bio import GenBank"
   ]
  },
  {
   "cell_type": "code",
   "execution_count": 40,
   "metadata": {
    "collapsed": false
   },
   "outputs": [],
   "source": [
    "parsed = SeqIO.parse('/Users/flamholz/Downloads/avi.img.CsoSCA_large_small.pm10k.scaff.gb', 'gb')\n",
    "\n",
    "rubiscos = []\n",
    "rubiscos_aa = []\n",
    "i = 1\n",
    "for record in parsed:\n",
    "    for feature in record.features:\n",
    "        if 'eC_number' not in feature.qualifiers:\n",
    "            continue\n",
    "            \n",
    "        EC = feature.qualifiers['eC_number']\n",
    "        if '4.1.1.39' not in EC:\n",
    "            continue\n",
    "            \n",
    "        product = feature.qualifiers['product'][0]\n",
    "        if 'large' in product.lower():\n",
    "            seq = feature.extract(record)\n",
    "            rubiscos.append(seq)\n",
    "            \n",
    "            aaseq = seq.seq.translate()\n",
    "            aarec = SeqRecord.SeqRecord(aaseq, id='cbbL%d' % i, name=seq.name, description=seq.description)\n",
    "            rubiscos_aa.append(aarec)\n",
    "            i += 1\n",
    "\n",
    "        "
   ]
  },
  {
   "cell_type": "code",
   "execution_count": 41,
   "metadata": {
    "collapsed": false
   },
   "outputs": [],
   "source": [
    "with open('/Users/flamholz/Downloads/121417_dudu_cbbLs.fa', 'w') as f:\n",
    "    SeqIO.write(rubiscos_aa, f, 'fasta')"
   ]
  },
  {
   "cell_type": "code",
   "execution_count": 31,
   "metadata": {
    "collapsed": false
   },
   "outputs": [],
   "source": []
  },
  {
   "cell_type": "code",
   "execution_count": null,
   "metadata": {
    "collapsed": true
   },
   "outputs": [],
   "source": []
  }
 ],
 "metadata": {
  "kernelspec": {
   "display_name": "Python 2",
   "language": "python",
   "name": "python2"
  },
  "language_info": {
   "codemirror_mode": {
    "name": "ipython",
    "version": 2
   },
   "file_extension": ".py",
   "mimetype": "text/x-python",
   "name": "python",
   "nbconvert_exporter": "python",
   "pygments_lexer": "ipython2",
   "version": "2.7.10"
  }
 },
 "nbformat": 4,
 "nbformat_minor": 0
}
