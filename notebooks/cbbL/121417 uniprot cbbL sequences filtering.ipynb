{
 "cells": [
  {
   "cell_type": "code",
   "execution_count": 26,
   "metadata": {
    "collapsed": true
   },
   "outputs": [],
   "source": [
    "from Bio import SeqIO\n",
    "from Bio import GenBank"
   ]
  },
  {
   "cell_type": "code",
   "execution_count": 21,
   "metadata": {
    "collapsed": false
   },
   "outputs": [
    {
     "name": "stdout",
     "output_type": "stream",
     "text": [
      "954\n",
      "968\n"
     ]
    }
   ],
   "source": [
    "cbbLs = SeqIO.parse('/Users/flamholz/Downloads/uniprot-name%3A_ribulose+bisphosphate+carboxylase+large+chain_+taxonomy%3Aba--.fasta', 'fasta')\n",
    "filtered_records = []\n",
    "i = 1\n",
    "for record in cbbLs:\n",
    "    seq = record.seq.tostring()\n",
    "    if len(seq) < 600 and len(seq) > 400:\n",
    "        filtered_records.append(record)\n",
    "        \n",
    "    i += 1\n",
    "print len(filtered_records)\n",
    "print i"
   ]
  },
  {
   "cell_type": "code",
   "execution_count": 25,
   "metadata": {
    "collapsed": false
   },
   "outputs": [],
   "source": [
    "with open('/Users/flamholz/Downloads/12142017_filtered_bacterial_cbbLs.fa', 'w') as f:\n",
    "    SeqIO.write(filtered_records, f, 'fasta')"
   ]
  },
  {
   "cell_type": "code",
   "execution_count": 24,
   "metadata": {
    "collapsed": false
   },
   "outputs": [],
   "source": [
    "SeqIO.write?"
   ]
  },
  {
   "cell_type": "code",
   "execution_count": null,
   "metadata": {
    "collapsed": true
   },
   "outputs": [],
   "source": []
  }
 ],
 "metadata": {
  "kernelspec": {
   "display_name": "Python 2",
   "language": "python",
   "name": "python2"
  },
  "language_info": {
   "codemirror_mode": {
    "name": "ipython",
    "version": 2
   },
   "file_extension": ".py",
   "mimetype": "text/x-python",
   "name": "python",
   "nbconvert_exporter": "python",
   "pygments_lexer": "ipython2",
   "version": "2.7.10"
  }
 },
 "nbformat": 4,
 "nbformat_minor": 0
}
